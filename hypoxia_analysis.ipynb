{
 "cells": [
  {
   "cell_type": "markdown",
   "metadata": {},
   "source": [
    "# Perform Hyperspectral Analysis and Filtering in Cahmber Window Images"
   ]
  },
  {
   "cell_type": "markdown",
   "metadata": {},
   "source": [
    "This notebook will explore what types of analyses and filtering can be done with the acquired hyperspectral images. The loaded images will be pre-filtered with a mean filter of kernel size 7. This is done by the file auto_filter.py and should be done beforehand in order to expedite the analysis presented here."
   ]
  },
  {
   "cell_type": "code",
   "execution_count": 1,
   "metadata": {},
   "outputs": [
    {
     "name": "stdout",
     "output_type": "stream",
     "text": [
      "Using matplotlib backend: Qt5Agg\n"
     ]
    }
   ],
   "source": [
    "%matplotlib auto\n",
    "import os\n",
    "import spectral\n",
    "import spectral.io.envi as envi\n",
    "import matplotlib.pyplot as plt\n",
    "import numpy as np\n",
    "import cv2 as cv\n",
    "import pickle\n",
    "#%%\n",
    "def save_obj(obj, name ):\n",
    "    input('ARE YOU SURE YOU WANT TO SAVE THIS OBJECT...')\n",
    "    with open( name + '.pkl', 'wb') as f:\n",
    "        pickle.dump(obj, f, pickle.HIGHEST_PROTOCOL)\n",
    "\n",
    "def load_obj(name ):\n",
    "    with open(name + '.pkl', 'rb') as f:\n",
    "        return pickle.load(f)\n",
    "\n",
    "def load_hyper_image(filename):\n",
    "    hdr_name = filename+'.hdr'\n",
    "    lib = spectral.envi.read_envi_header(hdr_name)\n",
    "    img = envi.open(hdr_name, filename)\n",
    "    return lib, img\n",
    "\n",
    "def mean_spectrum(roi):\n",
    "    mean_spec = np.mean(roi,axis=1)\n",
    "    mean_spec = np.mean(mean_spec,axis=0)\n",
    "    return mean_spec\n",
    "\n",
    "def get_range(x,y,xlims):\n",
    "    y = y[x>=xlims[0]]\n",
    "    x = x[x>=xlims[0]]\n",
    "    y = y[x<=xlims[1]]\n",
    "    x = x[x<=xlims[1]]\n",
    "    return x, y\n",
    "\n",
    "def get_norm_spec(filename,roi1,roi2):\n",
    "    lib, img = load_hyper_image(filename)\n",
    "    roi = img[roi1[0]:roi1[1],roi1[2]:roi1[3],:]\n",
    "    norm = img[roi2[0]:roi2[1],roi2[2]:roi2[3],:]\n",
    "    lamb = np.array(lib['wavelength']).astype(float)\n",
    "    norm_spec = mean_spectrum(roi)/mean_spectrum(norm)\n",
    "    return lamb,norm_spec\n",
    "\n",
    "def find_refl(refl,lamb,val):\n",
    "    diff = np.abs(lamb-val)\n",
    "    return refl[np.argmin(diff)]\n",
    "\n",
    "def find_band(lamb,wav):\n",
    "    diff = np.abs(lamb-wav)\n",
    "    return np.argmin(diff)\n",
    "\n",
    "def avg_filter(img,lamb,win):\n",
    "    def get_kernel(idxx,idxy,win):\n",
    "        idx_range = np.arange(win)\n",
    "        shiftx = int(idxx-int(win/2))\n",
    "        shifty = int(idxy-int(win/2))\n",
    "        idxx_new = idx_range + shiftx\n",
    "        idxy_new = idx_range + shifty\n",
    "        return idxx_new, idxy_new\n",
    "    mean_kernel = np.zeros([win*win,len(lamb)])\n",
    "    img2 = img\n",
    "    for i in range(img.shape[0]-int(win/2)*2):\n",
    "        for j in range(img.shape[1]-int(win/2)*2):\n",
    "            idx1 = i + int(win/2)\n",
    "            idx2 = j + int(win/2)\n",
    "            rx, ry = get_kernel(idx1,idx2, win)\n",
    "            count = 0\n",
    "            for ii in range(len(rx)):\n",
    "                for jj in range(len(ry)):\n",
    "                    mean_kernel[count,:] = img_all[rx[ii],ry[jj],:]\n",
    "                    count = count + 1\n",
    "            img2[idx1,idx2,:] = np.mean(mean_kernel,axis=0)\n",
    "        print(i)\n",
    "        if i == 2000:\n",
    "            break\n",
    "    return img2"
   ]
  },
  {
   "cell_type": "markdown",
   "metadata": {},
   "source": [
    "# Plot the Filtered Image at Certain Wavelengths "
   ]
  },
  {
   "cell_type": "markdown",
   "metadata": {},
   "source": [
    "Create a funciton to transform the wavelength ratios to saturation based on ratiometric analysis done in the Notebook absorptivity_rat.ipynb"
   ]
  },
  {
   "cell_type": "code",
   "execution_count": 52,
   "metadata": {},
   "outputs": [],
   "source": [
    "def get_sat(ratio):\n",
    "    sat = -10.376376218161289 + 18.27018052*ratio\n",
    "    return sat"
   ]
  },
  {
   "cell_type": "markdown",
   "metadata": {},
   "source": [
    "Apply the function to the original images and also plot the wavelength ratios"
   ]
  },
  {
   "cell_type": "markdown",
   "metadata": {},
   "source": [
    "## Load the Cropped Images\n",
    "Here, the images are cropped to a region of interest for analysis. This also allows to work with smaller images which expedites the analysis."
   ]
  },
  {
   "cell_type": "code",
   "execution_count": null,
   "metadata": {},
   "outputs": [],
   "source": [
    "# img1_c = img1[755:1274,116:525,:]\n",
    "# img2_c = img2[950:1478,250:680,:]\n",
    "# img3_c = img3[763:1333,20:491,:]\n",
    "\n",
    "os.chdir('C:\\\\Users\\\\Alfredo\\\\Documents\\\\University\\\\FCE\\\\hyperspectral\\\\hypoxia\\\\H002')\n",
    "img1_c = load_obj('bl')\n",
    "img2_c = load_obj('hyp2')\n",
    "img4_c = load_obj('rs4')\n",
    "img3_c = load_obj('rs2')\n",
    "lamb = load_obj('lamb')\n",
    "\n",
    "# Define the colors based on the wavelengths\n",
    "red = find_band(lamb,620)\n",
    "green = find_band(lamb,495)\n",
    "blue = find_band(lamb,450)\n",
    "\n",
    "img_list = [img1_c,img2_c,img3_c,img4_c]\n",
    "\n",
    "# Plot the images\n",
    "# spectral.imshow(img1_c,(red,green,blue),stretch=((0.02, 0.98), (0.02, 0.98), (0.02, 0.98)))\n",
    "# spectral.imshow(img2_c,(red,green,blue),stretch=((0.02, 0.98), (0.02, 0.98), (0.02, 0.98)))\n",
    "# spectral.imshow(img3_c,(red,green,blue),stretch=((0.02, 0.98), (0.02, 0.98), (0.02, 0.98)))"
   ]
  },
  {
   "cell_type": "markdown",
   "metadata": {},
   "source": [
    "Use the image ratios to find a good thresholding level to segment the vessels and tissue background from the image"
   ]
  },
  {
   "cell_type": "code",
   "execution_count": 98,
   "metadata": {},
   "outputs": [
    {
     "name": "stdout",
     "output_type": "stream",
     "text": [
      "Using matplotlib backend: Qt5Agg\n"
     ]
    }
   ],
   "source": [
    "%matplotlib auto\n",
    "import matplotlib.cm as cm\n",
    "num = 576\n",
    "denom = 486\n",
    "ratio_list = []\n",
    "for i in range(len(img_list)):\n",
    "    plt.subplot(1,len(img_list),1+i)\n",
    "    ratio1 = img_list[i][:,:,find_band(lamb,num)]/img_list[i][:,:,find_band(lamb,denom)]\n",
    "    #ratio2 = cv2.medianBlur(ratio2,15)\n",
    "    plt.imshow(1-ratio1[:,:], cmap=cm.hot, vmin=0, vmax=1)\n",
    "    cbar = plt.colorbar()\n",
    "    cbar.set_label('Wavelength Ratio', rotation=270)\n",
    "    ratio_list.append(ratio1)"
   ]
  },
  {
   "cell_type": "markdown",
   "metadata": {},
   "source": [
    "Threshold the images created with the wavelength ratios to obtain the background and take the average spectra for the background region"
   ]
  },
  {
   "cell_type": "code",
   "execution_count": 103,
   "metadata": {},
   "outputs": [
    {
     "name": "stderr",
     "output_type": "stream",
     "text": [
      "C:\\Users\\Alfredo\\Anaconda3\\lib\\site-packages\\matplotlib\\cbook\\deprecation.py:106: MatplotlibDeprecationWarning: Adding an axes using the same arguments as a previous axes currently reuses the earlier instance.  In a future version, a new instance will always be created and returned.  Meanwhile, this warning can be suppressed, and the future behavior ensured, by passing a unique label to each axes instance.\n",
      "  warnings.warn(message, mplDeprecation, stacklevel=1)\n"
     ]
    }
   ],
   "source": [
    "def get_avg_bkg(img, mask):\n",
    "# mask corresponds to the vessel mask. (i.e. vessels=1, tissue=0)\n",
    "    img1_t = np.zeros(img.shape)\n",
    "    img1_v = np.zeros(img.shape)\n",
    "    for i in range(mask.shape[0]):\n",
    "        for j in range(mask.shape[1]):\n",
    "            if ~(mask[i,j]==True):\n",
    "                img1_t[i,j,:] = img[i,j,:]\n",
    "            else:\n",
    "                img1_v[i,j,:] = img[i,j,:]\n",
    "    t_mean_1 = img1_t.mean(axis=1).mean(axis=0)\n",
    "    v_mean_1 = img1_v.mean(axis=1).mean(axis=0)\n",
    "    return t_mean_1, v_mean_1\n",
    "\n",
    "t_list = []\n",
    "v_list = []\n",
    "for i in range(len(ratio_list)):\n",
    "    thresh_1 = (1-ratio_list[i][:,:]>0.3)\n",
    "    plt.imshow(thresh_1)\n",
    "    t1,v1 = get_avg_bkg(img_list[i],thresh_1)\n",
    "    t_list.append(t1)\n",
    "    v_list.append(v1)\n"
   ]
  },
  {
   "cell_type": "markdown",
   "metadata": {},
   "source": [
    "Plot the average spectra in the vessels of the segmented image"
   ]
  },
  {
   "cell_type": "code",
   "execution_count": 63,
   "metadata": {},
   "outputs": [],
   "source": [
    "plt.figure()\n",
    "for i in range(len(t_list)):\n",
    "    plt.plot(v_list[i]/t_list[i], LINEWIDTH=0.5)\n",
    "plt.legend(['BL','HYP2','RS2','RS4'])"
   ]
  },
  {
   "cell_type": "markdown",
   "metadata": {},
   "source": [
    "Find the wavelength ratio that best correlates with the hypoxia state by finding the ratio with the largest difference between the oxygenated and deoxygenated spectra"
   ]
  },
  {
   "cell_type": "code",
   "execution_count": null,
   "metadata": {},
   "outputs": [],
   "source": [
    "# Find the wavelegth ratio that gives the largest difference between the two spectra\n",
    "n1 = v_list[0]/t_list[0]\n",
    "n2 = v_list[1]/t_list[1]\n",
    "diff_mat = np.zeros([len(n1),len(n1)])\n",
    "for i in range(len(n1)):\n",
    "    for j in range(len(n1)):\n",
    "        diff_mat[i,j] = np.abs(n1[i]/n1[j] - n2[i]/n2[j])\n",
    "num,denom = np.unravel_index(np.nanargmax(diff_mat, axis=None), diff_mat.shape)"
   ]
  },
  {
   "cell_type": "markdown",
   "metadata": {},
   "source": [
    "Normalize the whole image by the average background and attempt to plot the saturation"
   ]
  },
  {
   "cell_type": "code",
   "execution_count": 93,
   "metadata": {},
   "outputs": [],
   "source": [
    "img_n = []\n",
    "for i in range(len(img_list)):\n",
    "    img_n.append(img_list[i]/t_list[i])\n",
    "\n",
    "def get_sat(ratio):\n",
    "    #sat = -14.757682020831949 + 13.45583662*ratio\n",
    "    sat = ratio\n",
    "    return sat\n",
    "\n",
    "num = 467.8\n",
    "denom = 560.26\n",
    "vmin = 0\n",
    "vmax = 0.5\n",
    "ratio0 = 1 - img_n[2][:,:,find_band(lamb,num)]/img_n[2][:,:,find_band(lamb,denom)]\n",
    "plt_titles = ['Baseline','Hypoxia 2 min','Resucitation 2 min', 'Resucitation 4 min']\n",
    "fig = plt.figure()\n",
    "for i in range(len(img_list)):\n",
    "    plt.subplot(1,len(img_n),1+i)\n",
    "    ratio1 = img_n[i][:,:,find_band(lamb,num)]/img_n[i][:,:,find_band(lamb,denom)]\n",
    "    #ratio2 = cv2.medianBlur(ratio2,15)\n",
    "    plt.imshow(1-ratio1[:,:], cmap=cm.RdYlBu, vmin=ratio0.min(), vmax=ratio0.max())\n",
    "    cbar.set_label('Wavelength Ratio', rotation=270)\n",
    "    plt.title(plt_titles[i])\n",
    "    plt.xlim([0,400])\n",
    "    plt.ylim([0,600])\n",
    "    if i == len(img_n)-1:\n",
    "        cax = fig.add_axes([0.35, .87, 0.35, 0.03])\n",
    "        cbar = plt.colorbar(orientation='horizontal', cax=cax, ticks=[-4, 0])\n",
    "        cbar.set_label('Relative Degree of Oxygenation')\n",
    "        cbar.ax.set_xticklabels(['DeoxyHB', 'OxyHB'])"
   ]
  },
  {
   "cell_type": "code",
   "execution_count": 14,
   "metadata": {},
   "outputs": [
    {
     "data": {
      "text/plain": [
       "<matplotlib.image.AxesImage at 0x1f78d5f02b0>"
      ]
     },
     "execution_count": 14,
     "metadata": {},
     "output_type": "execute_result"
    }
   ],
   "source": [
    "def find_max(lamb, img, lamb_min, lamb_max):\n",
    "    band_min = find_band(lamb,lamb_min)\n",
    "    band_max = find_band(lamb,lamb_max)\n",
    "    max_bands = np.argmax(img2[:,:,band_min:band_max],axis=2)\n",
    "    return max_bands\n",
    "wav11 = img1_n[:,:,find_band(lamb,555)]\n",
    "wav2 = np.log(1/img1_n[:,:,find_band(lamb,574)])\n",
    "wav3 = np.log(1/img1_n[:,:,find_band(lamb,610)])\n",
    "plt.subplot(2,3,1)\n",
    "plt.imshow(wav11, cmap=cm.inferno,vmin=wav11.min(), vmax=wav11.max())\n",
    "plt.subplot(2,3,2)\n",
    "plt.imshow(wav2, cmap=cm.inferno, vmin=wav1.min(), vmax=1)\n",
    "plt.subplot(2,3,3)\n",
    "plt.imshow(wav3, cmap=cm.inferno, vmin=wav1.min(), vmax=1)\n",
    "\n",
    "\n",
    "wav1 = img2_n[:,:,find_band(lamb,555)]\n",
    "wav2 = np.log(1/img2_n[:,:,find_band(lamb,574)])\n",
    "wav3 = np.log(1/img2_n[:,:,find_band(lamb,610)])\n",
    "plt.subplot(2,3,4)\n",
    "plt.imshow(wav1, cmap=cm.inferno,vmin=wav11.min(), vmax=wav11.max())\n",
    "plt.subplot(2,3,5)\n",
    "plt.imshow(wav2, cmap=cm.inferno, vmin=wav1.min(), vmax=1)\n",
    "plt.subplot(2,3,6)\n",
    "plt.imshow(wav3, cmap=cm.inferno, vmin=wav1.min(), vmax=1)"
   ]
  }
 ],
 "metadata": {
  "kernelspec": {
   "display_name": "Python 3",
   "language": "python",
   "name": "python3"
  },
  "language_info": {
   "codemirror_mode": {
    "name": "ipython",
    "version": 3
   },
   "file_extension": ".py",
   "mimetype": "text/x-python",
   "name": "python",
   "nbconvert_exporter": "python",
   "pygments_lexer": "ipython3",
   "version": "3.6.3"
  }
 },
 "nbformat": 4,
 "nbformat_minor": 2
}
